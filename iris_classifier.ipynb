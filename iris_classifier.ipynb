{
 "cells": [
  {
   "cell_type": "markdown",
   "id": "79ac8e78",
   "metadata": {},
   "source": [
    "# Irir Classifier"
   ]
  },
  {
   "cell_type": "code",
   "execution_count": 1,
   "id": "db77d4ed",
   "metadata": {},
   "outputs": [],
   "source": [
    "from sklearn.datasets import load_iris\n",
    "import pennylane as qml\n",
    "import numpy as np\n",
    "from pennylane.optimize import AdamOptimizer\n",
    "import matplotlib.pyplot as plt"
   ]
  },
  {
   "cell_type": "code",
   "execution_count": 2,
   "id": "c764d0e7",
   "metadata": {},
   "outputs": [],
   "source": [
    "import warnings\n",
    "warnings.filterwarnings('ignore')"
   ]
  },
  {
   "cell_type": "markdown",
   "id": "67b814a4",
   "metadata": {},
   "source": [
    "## Prepare Datasets"
   ]
  },
  {
   "cell_type": "code",
   "execution_count": 3,
   "id": "a9dd0368",
   "metadata": {},
   "outputs": [],
   "source": [
    "X, Y = load_iris(return_X_y=True)\n",
    "\n",
    "X_train_0 = X[0:30]\n",
    "X_train_1 = X[50:80]\n",
    "X_train = np.vstack((X_train_0, X_train_1))\n",
    "\n",
    "Y_train_0 = Y[0:30]\n",
    "Y_train_1 = Y[50:80]\n",
    "Y_train = np.vstack((Y_train_0, Y_train_1)).flatten()\n",
    "\n",
    "X, Y = load_iris(return_X_y=True)\n",
    "\n",
    "X_test_0 = X[30:50]\n",
    "X_test_1 = X[80:100]\n",
    "X_test = np.vstack((X_test_0, X_test_1))\n",
    "\n",
    "Y_test_0 = Y[30:50]\n",
    "Y_test_1 = Y[80:100]\n",
    "Y_test = np.vstack((Y_test_0, Y_test_1)).flatten()"
   ]
  },
  {
   "cell_type": "code",
   "execution_count": 4,
   "id": "a15ab9a5",
   "metadata": {},
   "outputs": [],
   "source": [
    "X_train = (X_train - X_train.min(axis=0)) / (X_train.max(axis=0) - X_train.min(axis=0))\n",
    "X_test = (X_test - X_test.min(axis=0)) / (X_test.max(axis=0) - X_test.min(axis=0))"
   ]
  },
  {
   "cell_type": "markdown",
   "id": "4de1f61b",
   "metadata": {},
   "source": [
    "## Init Variational Quantum Classifier"
   ]
  },
  {
   "cell_type": "code",
   "execution_count": 5,
   "id": "e37a1773",
   "metadata": {},
   "outputs": [],
   "source": [
    "qubits_num = 4\n",
    "layers_num = 2\n",
    "\n",
    "dev = qml.device(\"default.qubit\", wires=qubits_num)"
   ]
  },
  {
   "cell_type": "code",
   "execution_count": 41,
   "id": "04ce0d07",
   "metadata": {},
   "outputs": [],
   "source": [
    "class VQC:\n",
    "    def __init__(self):\n",
    "        # 3 => U3(theta, phi, lambda)\n",
    "        self.params = (0.1 * np.random.randn(layers_num, qubits_num, 3))\n",
    "        self.bestparams = self.params\n",
    "        self.bestcost = 10\n",
    "        \n",
    "        self.opt = AdamOptimizer(0.125)\n",
    "        \n",
    "        self.weights = []\n",
    "        self.costs = []\n",
    "        self.accuracies = []\n",
    "        \n",
    "    def fit(self, X_train, Y_train, epoch=300):\n",
    "        batch_size = 20\n",
    "\n",
    "        for turn in range(epoch):\n",
    "            # Update the weights by one optimizer step\n",
    "            batch_index = np.random.randint(0, len(X_train), (batch_size,))\n",
    "            X_train_batch = X_train[batch_index]\n",
    "            Y_train_batch = Y_train[batch_index]\n",
    "            self.params = self.opt.step(lambda v: cost(v, X_train_batch, Y_train_batch), self.params)\n",
    "\n",
    "            cost_now = cost(self.params, X_train, Y_train)\n",
    "            acc_now = accuracy(self.params, X_train, Y_train) \n",
    "\n",
    "            if cost_now < self.bestcost:\n",
    "                self.bestcost = cost_now\n",
    "                self.bestparams = self.params\n",
    "            \n",
    "            self.weights.append(self.params)\n",
    "            self.costs.append(cost_now)\n",
    "            self.accuracies.append(acc_now)\n",
    "            \n",
    "            print(\n",
    "                \"Turn: {:5d} | Cost: {:0.7f} | Accuracy: {:0.2f}% \".format(\n",
    "                turn, cost_now, acc_now * 100\n",
    "            ))\n",
    "            \n",
    "    def score(self, X_test, Y_test):\n",
    "        predictions = [ predict(self.bestparams, data) for data in X_test ]\n",
    "        acc = accuracy(self.bestparams, X_test, Y_test)\n",
    "        \n",
    "        print(\"FINAL ACCURACY: {:0.2f}%\".format(acc * 100))"
   ]
  },
  {
   "cell_type": "code",
   "execution_count": 42,
   "id": "d5c73499",
   "metadata": {},
   "outputs": [],
   "source": [
    "@qml.qnode(dev)\n",
    "def circuit(params, data):\n",
    "    angles = [ i  * np.pi for i in data ]\n",
    "\n",
    "    for i in range(qubits_num):\n",
    "        qml.RX(angles[i], wires=i)\n",
    "        qml.Rot( *params[0, i], wires=i )\n",
    "\n",
    "    qml.CZ(wires=[1, 0])\n",
    "    qml.CZ(wires=[1, 2])\n",
    "    qml.CZ(wires=[2, 3])\n",
    "    qml.CZ(wires=[0, 3])\n",
    "\n",
    "    for i in range(qubits_num):\n",
    "        qml.Rot( *params[1, i], wires=i )\n",
    "    \n",
    "    # PauliZ measure => 1 -> |0>  while -1 -> |1>\n",
    "    return qml.expval(qml.PauliZ(0)), qml.expval(qml.PauliZ(1)), qml.expval(qml.PauliZ(2)), qml.expval(qml.PauliZ(3))"
   ]
  },
  {
   "cell_type": "markdown",
   "id": "a8652759",
   "metadata": {},
   "source": [
    "### - cost function in VQC"
   ]
  },
  {
   "cell_type": "code",
   "execution_count": 43,
   "id": "b0cdc749",
   "metadata": {},
   "outputs": [],
   "source": [
    "def cost(weights, datas, labels):\n",
    "    loss = 0\n",
    "    \n",
    "    for i, data in enumerate(datas):\n",
    "        # like [-1, 1, 1]\n",
    "        measured = circuit(weights, data)\n",
    "\n",
    "        p = measured[0]\n",
    "        if labels[i] == 0:\n",
    "            loss += (1 - p) ** 2\n",
    "        else:\n",
    "            loss += (-1 - p) ** 2\n",
    "            \n",
    "        \n",
    "    return loss / len(datas)"
   ]
  },
  {
   "cell_type": "markdown",
   "id": "5c79e699",
   "metadata": {},
   "source": [
    "### - predict in VQC"
   ]
  },
  {
   "cell_type": "code",
   "execution_count": 44,
   "id": "ee72d3b6",
   "metadata": {},
   "outputs": [],
   "source": [
    "import qiskit\n",
    "import numpy as np\n",
    "from qiskit import QuantumCircuit\n",
    "from qiskit import Aer, execute\n",
    "\n",
    "unitary_backend = Aer.get_backend('unitary_simulator')\n",
    "qasm_backend = Aer.get_backend('qasm_simulator')"
   ]
  },
  {
   "cell_type": "code",
   "execution_count": 45,
   "id": "cac14c99",
   "metadata": {},
   "outputs": [],
   "source": [
    "def predict(params, data):\n",
    "    qcircuit = QuantumCircuit(4, 4)\n",
    "    qubits = qcircuit.qubits\n",
    "\n",
    "    for i, d in enumerate(data):\n",
    "        qcircuit.rx(d * np.pi, qubits[i])\n",
    "        \n",
    "    for i in range(qubits_num):\n",
    "        qcircuit.u3(*params[0][i], qubits[i])\n",
    "\n",
    "    qcircuit.cz(qubits[0], qubits[1])\n",
    "    qcircuit.cz(qubits[1], qubits[2])\n",
    "    qcircuit.cz(qubits[2], qubits[3])\n",
    "    qcircuit.cz(qubits[0], qubits[3])\n",
    "\n",
    "    for i in range(qubits_num):\n",
    "        qcircuit.u3(*params[1][i], qubits[i])\n",
    "    \n",
    "    # the measurement\n",
    "    qcircuit.measure([0, 1, 2, 3], [0, 1, 2, 3])\n",
    "\n",
    "    # job execution\n",
    "    shots = 1000\n",
    "    job_sim = execute(qcircuit, qasm_backend, shots=shots)\n",
    "    result_sim = job_sim.result()\n",
    "    counts = result_sim.get_counts(qcircuit)\n",
    "\n",
    "    p1 = (counts.get('1000', 0) + counts.get('1001', 0) + counts.get('1010', 0) + counts.get('1011',0) + \\\n",
    "         counts.get('1100', 0) + counts.get('1101', 0) + counts.get('1110', 0) + counts.get('1111', 0)) / shots\n",
    "    \n",
    "    if p1 > 0.5:\n",
    "        return 1\n",
    "    else:\n",
    "        return 0"
   ]
  },
  {
   "cell_type": "markdown",
   "id": "9ec4cd80",
   "metadata": {},
   "source": [
    "### - accuracy scoring in VQC"
   ]
  },
  {
   "cell_type": "code",
   "execution_count": 46,
   "id": "5627bb0d",
   "metadata": {},
   "outputs": [],
   "source": [
    "def accuracy(weights, datas, labels):\n",
    "    predictions = [ predict(weights, data) for data in datas ]\n",
    "    \n",
    "    acc = 0\n",
    "    for i, p in enumerate(predictions):\n",
    "        if p == labels[i]:\n",
    "            acc += 1\n",
    "    \n",
    "    return acc / len(predictions)"
   ]
  },
  {
   "cell_type": "markdown",
   "id": "d1976b43",
   "metadata": {},
   "source": [
    "## Train VQC"
   ]
  },
  {
   "cell_type": "code",
   "execution_count": 47,
   "id": "298655dd",
   "metadata": {},
   "outputs": [],
   "source": [
    "vqc = VQC()"
   ]
  },
  {
   "cell_type": "code",
   "execution_count": 49,
   "id": "8c172986",
   "metadata": {},
   "outputs": [
    {
     "name": "stdout",
     "output_type": "stream",
     "text": [
      "Turn:     0 | Cost: 0.4360805 | Accuracy: 100.00% \n",
      "Turn:     1 | Cost: 0.4360805 | Accuracy: 100.00% \n",
      "Turn:     2 | Cost: 0.4360805 | Accuracy: 100.00% \n",
      "Turn:     3 | Cost: 0.4360805 | Accuracy: 100.00% \n",
      "Turn:     4 | Cost: 0.4360805 | Accuracy: 100.00% \n",
      "Turn:     5 | Cost: 0.4360805 | Accuracy: 100.00% \n",
      "Turn:     6 | Cost: 0.4360805 | Accuracy: 100.00% \n",
      "Turn:     7 | Cost: 0.4360805 | Accuracy: 100.00% \n",
      "Turn:     8 | Cost: 0.4360805 | Accuracy: 100.00% \n",
      "Turn:     9 | Cost: 0.4360805 | Accuracy: 100.00% \n"
     ]
    }
   ],
   "source": [
    "vqc.fit(X_train, Y_train, epoch=10)"
   ]
  },
  {
   "cell_type": "code",
   "execution_count": 50,
   "id": "9b952c65",
   "metadata": {},
   "outputs": [
    {
     "name": "stdout",
     "output_type": "stream",
     "text": [
      "FINAL ACCURACY: 100.00%\n"
     ]
    }
   ],
   "source": [
    "vqc.score(X_test, Y_test)"
   ]
  },
  {
   "cell_type": "code",
   "execution_count": 51,
   "id": "04ffa540",
   "metadata": {},
   "outputs": [
    {
     "data": {
      "text/plain": [
       "array([[[ 0.01351579,  0.09796321, -0.0787506 ],\n",
       "        [ 0.0247594 , -0.05314529, -0.01688076],\n",
       "        [ 0.0036963 ,  0.00189247,  0.05882401],\n",
       "        [ 0.12001614, -0.04561222, -0.1758587 ]],\n",
       "\n",
       "       [[ 0.07195059, -0.14918295,  0.17647329],\n",
       "        [-0.03588413, -0.14007738, -0.03474859],\n",
       "        [-0.00693093,  0.05308237,  0.26818109],\n",
       "        [ 0.09667641, -0.13599804,  0.06117493]]])"
      ]
     },
     "execution_count": 51,
     "metadata": {},
     "output_type": "execute_result"
    }
   ],
   "source": [
    "vqc.bestparams"
   ]
  },
  {
   "cell_type": "markdown",
   "id": "c0daf47b",
   "metadata": {},
   "source": [
    "## Create Corresponding Circuit"
   ]
  },
  {
   "cell_type": "code",
   "execution_count": 52,
   "id": "e6192da5",
   "metadata": {},
   "outputs": [],
   "source": [
    "def createCircuit(params, data):\n",
    "    qcircuit = QuantumCircuit(4, 4)\n",
    "    qubits = qcircuit.qubits\n",
    "\n",
    "    for i, d in enumerate(data):\n",
    "        qcircuit.rx(d * np.pi, qubits[i])\n",
    "\n",
    "    for i in range(qubits_num):\n",
    "        qcircuit.u3(*params[0][i], qubits[i])\n",
    "\n",
    "    qcircuit.cz(qubits[0], qubits[1])\n",
    "    qcircuit.cz(qubits[1], qubits[2])\n",
    "    qcircuit.cz(qubits[2], qubits[3])\n",
    "    qcircuit.cz(qubits[0], qubits[3])\n",
    "\n",
    "    for i in range(qubits_num):\n",
    "        qcircuit.u3(*params[1][i], qubits[i])\n",
    "        \n",
    "    return qcircuit"
   ]
  },
  {
   "cell_type": "code",
   "execution_count": 53,
   "id": "8185aaa8",
   "metadata": {},
   "outputs": [
    {
     "data": {
      "image/png": "[encoded data removed]",
      "text/plain": [
       "<Figure size 1207.22x451.5 with 1 Axes>"
      ]
     },
     "execution_count": 53,
     "metadata": {},
     "output_type": "execute_result"
    }
   ],
   "source": [
    "qcircuit = createCircuit(vqc.bestparams, X_train[0])\n",
    "qcircuit.draw(output='mpl')"
   ]
  },
  {
   "cell_type": "code",
   "execution_count": null,
   "id": "4b7829ae",
   "metadata": {},
   "outputs": [],
   "source": []
  }
 ],
 "metadata": {
  "kernelspec": {
   "display_name": "Python 3 (ipykernel)",
   "language": "python",
   "name": "python3"
  },
  "language_info": {
   "codemirror_mode": {
    "name": "ipython",
    "version": 3
   },
   "file_extension": ".py",
   "mimetype": "text/x-python",
   "name": "python",
   "nbconvert_exporter": "python",
   "pygments_lexer": "ipython3",
   "version": "3.9.13"
  }
 },
 "nbformat": 4,
 "nbformat_minor": 5
}
