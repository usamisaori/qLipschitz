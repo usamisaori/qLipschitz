{
 "cells": [
  {
   "cell_type": "code",
   "execution_count": 1,
   "id": "db77d4ed",
   "metadata": {},
   "outputs": [],
   "source": [
    "from sklearn.datasets import load_iris\n",
    "import pennylane as qml\n",
    "import numpy as np\n",
    "from pennylane.optimize import AdamOptimizer\n",
    "import matplotlib.pyplot as plt"
   ]
  },
  {
   "cell_type": "code",
   "execution_count": 2,
   "id": "a9dd0368",
   "metadata": {},
   "outputs": [],
   "source": [
    "X, Y = load_iris(return_X_y=True)\n",
    "\n",
    "X_train_0 = X[0:30]\n",
    "X_train_1 = X[50:80]\n",
    "X_train = np.vstack((X_train_0, X_train_1))\n",
    "\n",
    "Y_train_0 = Y[0:30]\n",
    "Y_train_1 = Y[50:80]\n",
    "Y_train = np.vstack((Y_train_0, Y_train_1)).flatten()\n",
    "\n",
    "X, Y = load_iris(return_X_y=True)\n",
    "\n",
    "X_test_0 = X[30:50]\n",
    "X_test_1 = X[80:100]\n",
    "X_test = np.vstack((X_test_0, X_test_1))\n",
    "\n",
    "Y_test_0 = Y[30:50]\n",
    "Y_test_1 = Y[80:100]\n",
    "Y_test = np.vstack((Y_test_0, Y_test_1)).flatten()"
   ]
  },
  {
   "cell_type": "code",
   "execution_count": 3,
   "id": "a15ab9a5",
   "metadata": {},
   "outputs": [],
   "source": [
    "X_train = (X_train - X_train.min(axis=0)) / (X_train.max(axis=0) - X_train.min(axis=0))\n",
    "X_test = (X_test - X_test.min(axis=0)) / (X_test.max(axis=0) - X_test.min(axis=0))"
   ]
  },
  {
   "cell_type": "code",
   "execution_count": 4,
   "id": "e37a1773",
   "metadata": {},
   "outputs": [],
   "source": [
    "qubits_num = 4\n",
    "layers_num = 2\n",
    "\n",
    "dev = qml.device(\"default.qubit\",wires=qubits_num)"
   ]
  },
  {
   "cell_type": "code",
   "execution_count": 34,
   "id": "04ce0d07",
   "metadata": {},
   "outputs": [],
   "source": [
    "class VQC:\n",
    "    def __init__(self):\n",
    "        # 3 => U3(theta, phi, lambda)\n",
    "        self.params = (0.01 * np.random.randn(layers_num, qubits_num, 3))\n",
    "        params = [-0.61058476, -0.23619078, -0.67559108]\n",
    "        self.params = [ \n",
    "            [params, params, params, params],\n",
    "            [params, params, params, params],\n",
    "        ]\n",
    "        self.bestparams = self.params\n",
    "        self.bestcost = 10\n",
    "        \n",
    "        self.opt = AdamOptimizer(0.125)\n",
    "        \n",
    "        self.weights = []\n",
    "        self.costs = []\n",
    "        self.accuracies = []\n",
    "        \n",
    "    def fit(self, X_train, Y_train, epoch=300):\n",
    "        batch_size = 20\n",
    "\n",
    "        for turn in range(epoch):\n",
    "            # Update the weights by one optimizer step\n",
    "            batch_index = np.random.randint(0, len(X_train), (batch_size,))\n",
    "            X_train_batch = X_train[batch_index]\n",
    "            Y_train_batch = Y_train[batch_index]\n",
    "            self.params = self.opt.step(lambda v: cost(v, X_train_batch, Y_train_batch), self.params)\n",
    "\n",
    "            cost_now = cost(self.params, X_train, Y_train)\n",
    "            acc_now = accuracy(self.params, X_train, Y_train) \n",
    "\n",
    "            if cost_now < self.bestcost:\n",
    "                self.bestcost = cost_now\n",
    "                self.bestparams = self.params\n",
    "            \n",
    "            self.weights.append(self.params)\n",
    "            self.costs.append(cost_now)\n",
    "            self.accuracies.append(acc_now)\n",
    "            \n",
    "            print(\n",
    "                \"Turn: {:5d} | Cost: {:0.7f} | Accuracy: {:0.2f}% \".format(\n",
    "                turn, cost_now, acc_now * 100\n",
    "            ))\n",
    "            \n",
    "    def score(self, X_test, Y_test):\n",
    "        predictions = [ predict(self.bestparams, data) for data in X_test ]\n",
    "        acc = accuracy(self.bestparams, X_test, Y_test)\n",
    "        \n",
    "        print(\"FINAL ACCURACY: {:0.2f}%\".format(acc * 100))"
   ]
  },
  {
   "cell_type": "code",
   "execution_count": 32,
   "id": "d5c73499",
   "metadata": {},
   "outputs": [],
   "source": [
    "@qml.qnode(dev)\n",
    "def circuit(params, data):\n",
    "    angles = [ i  * np.pi for i in data ]\n",
    "\n",
    "    for i in range(qubits_num):\n",
    "        qml.RX(angles[i], wires=i)\n",
    "        qml.Rot( *params[0, i], wires=i )\n",
    "\n",
    "    qml.CZ(wires=[1, 0])\n",
    "    qml.CZ(wires=[1, 2])\n",
    "    qml.CZ(wires=[2, 3])\n",
    "    qml.CZ(wires=[0, 3])\n",
    "\n",
    "    for i in range(qubits_num):\n",
    "        qml.Rot( *params[1, i], wires=i )\n",
    "    \n",
    "    # PauliZ measure => 1 -> |0>  while -1 -> |1>\n",
    "    return qml.expval(qml.PauliZ(0)), qml.expval(qml.PauliZ(1)), qml.expval(qml.PauliZ(2)), qml.expval(qml.PauliZ(3))"
   ]
  },
  {
   "cell_type": "code",
   "execution_count": 7,
   "id": "ee72d3b6",
   "metadata": {},
   "outputs": [],
   "source": [
    "import qiskit\n",
    "import numpy as np\n",
    "from qiskit import QuantumCircuit\n",
    "from qiskit import Aer, execute\n",
    "\n",
    "unitary_backend = Aer.get_backend('unitary_simulator')\n",
    "qasm_backend = Aer.get_backend('qasm_simulator')"
   ]
  },
  {
   "cell_type": "code",
   "execution_count": 8,
   "id": "cac14c99",
   "metadata": {},
   "outputs": [],
   "source": [
    "def predict(params, data):\n",
    "    qcircuit = QuantumCircuit(4, 4)\n",
    "    qubits = qcircuit.qubits\n",
    "\n",
    "    for i, d in enumerate(data):\n",
    "        qcircuit.rx(d * np.pi, qubits[i])\n",
    "        \n",
    "    for i in range(qubits_num):\n",
    "        qcircuit.u3(*params[0][i], qubits[i])\n",
    "\n",
    "    qcircuit.cz(qubits[0], qubits[1])\n",
    "    qcircuit.cz(qubits[1], qubits[2])\n",
    "    qcircuit.cz(qubits[2], qubits[3])\n",
    "    qcircuit.cz(qubits[0], qubits[3])\n",
    "\n",
    "    for i in range(qubits_num):\n",
    "        qcircuit.u3(*params[1][i], qubits[i])\n",
    "    \n",
    "    # the measurement\n",
    "    qcircuit.measure([0, 1, 2, 3], [0, 1, 2, 3])\n",
    "\n",
    "    # job execution\n",
    "    shots = 1000\n",
    "    job_sim = execute(qcircuit, qasm_backend, shots=shots)\n",
    "    result_sim = job_sim.result()\n",
    "    counts = result_sim.get_counts(qcircuit)\n",
    "\n",
    "    p1 = (counts.get('1000', 0) + counts.get('1001', 0) + counts.get('1010', 0) + counts.get('1011',0) + \\\n",
    "         counts.get('1100',0) + counts.get('1101',0) + counts.get('1110',0) + counts.get('1111',0)) / shots\n",
    "    \n",
    "    if p1 > 0.5:\n",
    "        return 1\n",
    "    else:\n",
    "        return 0"
   ]
  },
  {
   "cell_type": "code",
   "execution_count": 9,
   "id": "837a424d",
   "metadata": {},
   "outputs": [],
   "source": [
    "def cost(weights, datas, labels):\n",
    "    loss = 0\n",
    "    \n",
    "    for i, data in enumerate(datas):\n",
    "        # like [-1, 1, 1]\n",
    "        measured = circuit(weights, data)\n",
    "\n",
    "        p = measured[0]\n",
    "        if labels[i] == 0:\n",
    "            loss += (1 - p) ** 2\n",
    "        else:\n",
    "            loss += (-1 - p) ** 2\n",
    "            \n",
    "        \n",
    "    return loss / len(datas)"
   ]
  },
  {
   "cell_type": "code",
   "execution_count": 10,
   "id": "5627bb0d",
   "metadata": {},
   "outputs": [],
   "source": [
    "def accuracy(weights, datas, labels):\n",
    "    predictions = [ predict(weights, data) for data in datas ]\n",
    "    \n",
    "    acc = 0\n",
    "    for i, p in enumerate(predictions):\n",
    "        if p == labels[i]:\n",
    "            acc += 1\n",
    "    \n",
    "    return acc / len(predictions)"
   ]
  },
  {
   "cell_type": "code",
   "execution_count": 35,
   "id": "de563beb",
   "metadata": {},
   "outputs": [
    {
     "name": "stderr",
     "output_type": "stream",
     "text": [
      "C:\\Users\\lenovo\\AppData\\Local\\Temp/ipykernel_16096/3757872926.py:9: DeprecationWarning: The QuantumCircuit.u3 method is deprecated as of 0.16.0. It will be removed no earlier than 3 months after the release date. You should use QuantumCircuit.u instead, which acts identically. Alternatively, you can decompose u3 in terms of QuantumCircuit.p and QuantumCircuit.sx: u3(ϴ,φ,λ) = p(φ+π) sx p(ϴ+π) sx p(λ) (2 pulses on hardware).\n",
      "  qcircuit.u3(*params[0][i], qubits[i])\n",
      "C:\\Users\\lenovo\\AppData\\Local\\Temp/ipykernel_16096/3757872926.py:17: DeprecationWarning: The QuantumCircuit.u3 method is deprecated as of 0.16.0. It will be removed no earlier than 3 months after the release date. You should use QuantumCircuit.u instead, which acts identically. Alternatively, you can decompose u3 in terms of QuantumCircuit.p and QuantumCircuit.sx: u3(ϴ,φ,λ) = p(φ+π) sx p(ϴ+π) sx p(λ) (2 pulses on hardware).\n",
      "  qcircuit.u3(*params[1][i], qubits[i])\n"
     ]
    },
    {
     "name": "stdout",
     "output_type": "stream",
     "text": [
      "Turn:     0 | Cost: 0.4099047 | Accuracy: 100.00% \n"
     ]
    }
   ],
   "source": [
    "vqc = VQC()\n",
    "vqc.fit(X_train, Y_train, epoch=1)"
   ]
  },
  {
   "cell_type": "code",
   "execution_count": 16,
   "id": "1b7768cb",
   "metadata": {},
   "outputs": [
    {
     "name": "stdout",
     "output_type": "stream",
     "text": [
      "[[[-0.61058476 -0.23619078 -0.67559108]\n",
      "  [-1.80790905  1.63540309  0.00804188]\n",
      "  [ 0.00743875 -0.00383477  0.00555999]\n",
      "  [ 0.71276441  0.35923809 -0.01611214]]\n",
      "\n",
      " [[-0.66429931  1.08155472  0.00423949]\n",
      "  [-0.01545674 -0.00554078 -0.01610597]\n",
      "  [ 0.00756835  0.00232607  0.00317225]\n",
      "  [ 0.00676815 -0.00607192 -0.00496333]]]\n"
     ]
    }
   ],
   "source": [
    "print(vqc.weights[26])"
   ]
  },
  {
   "cell_type": "code",
   "execution_count": 17,
   "id": "04f89eac",
   "metadata": {},
   "outputs": [],
   "source": [
    "vqc.bestparams = vqc.weights[26]"
   ]
  },
  {
   "cell_type": "code",
   "execution_count": 36,
   "id": "df27cb2c",
   "metadata": {},
   "outputs": [
    {
     "data": {
      "text/plain": [
       "[[[-0.7355847312547387, -0.3611907626398131, -0.5505915739822851],\n",
       "  [-0.7355846891348631, -0.36119075731765315, -0.6755910804580755],\n",
       "  [-0.6105847599396912, -0.23619078007148958, -0.6755910799789936],\n",
       "  [-0.48558489340795274, -0.11119082469262487, -0.6755910799498557]],\n",
       " [[-0.485585253982285, -0.11119079632950078, -0.675591080150433],\n",
       "  [-0.6105847606959223, -0.23619077985735965, -0.6755910809080193],\n",
       "  [-0.6105847594463792, -0.23619077998136526, -0.6755910797086206],\n",
       "  [-0.6105847598028107, -0.23619077968863067, -0.675591079882093]]]"
      ]
     },
     "execution_count": 36,
     "metadata": {},
     "output_type": "execute_result"
    }
   ],
   "source": [
    "vqc.bestparams"
   ]
  },
  {
   "cell_type": "code",
   "execution_count": 37,
   "id": "b98d9b6c",
   "metadata": {},
   "outputs": [
    {
     "name": "stderr",
     "output_type": "stream",
     "text": [
      "C:\\Users\\lenovo\\AppData\\Local\\Temp/ipykernel_16096/3757872926.py:9: DeprecationWarning: The QuantumCircuit.u3 method is deprecated as of 0.16.0. It will be removed no earlier than 3 months after the release date. You should use QuantumCircuit.u instead, which acts identically. Alternatively, you can decompose u3 in terms of QuantumCircuit.p and QuantumCircuit.sx: u3(ϴ,φ,λ) = p(φ+π) sx p(ϴ+π) sx p(λ) (2 pulses on hardware).\n",
      "  qcircuit.u3(*params[0][i], qubits[i])\n",
      "C:\\Users\\lenovo\\AppData\\Local\\Temp/ipykernel_16096/3757872926.py:17: DeprecationWarning: The QuantumCircuit.u3 method is deprecated as of 0.16.0. It will be removed no earlier than 3 months after the release date. You should use QuantumCircuit.u instead, which acts identically. Alternatively, you can decompose u3 in terms of QuantumCircuit.p and QuantumCircuit.sx: u3(ϴ,φ,λ) = p(φ+π) sx p(ϴ+π) sx p(λ) (2 pulses on hardware).\n",
      "  qcircuit.u3(*params[1][i], qubits[i])\n"
     ]
    },
    {
     "name": "stdout",
     "output_type": "stream",
     "text": [
      "FINAL ACCURACY: 100.00%\n"
     ]
    }
   ],
   "source": [
    "vqc.score(X_test, Y_test)"
   ]
  },
  {
   "cell_type": "code",
   "execution_count": 38,
   "id": "a783bfcc",
   "metadata": {},
   "outputs": [
    {
     "name": "stderr",
     "output_type": "stream",
     "text": [
      "C:\\Users\\lenovo\\AppData\\Local\\Temp/ipykernel_16096/3757872926.py:9: DeprecationWarning: The QuantumCircuit.u3 method is deprecated as of 0.16.0. It will be removed no earlier than 3 months after the release date. You should use QuantumCircuit.u instead, which acts identically. Alternatively, you can decompose u3 in terms of QuantumCircuit.p and QuantumCircuit.sx: u3(ϴ,φ,λ) = p(φ+π) sx p(ϴ+π) sx p(λ) (2 pulses on hardware).\n",
      "  qcircuit.u3(*params[0][i], qubits[i])\n",
      "C:\\Users\\lenovo\\AppData\\Local\\Temp/ipykernel_16096/3757872926.py:17: DeprecationWarning: The QuantumCircuit.u3 method is deprecated as of 0.16.0. It will be removed no earlier than 3 months after the release date. You should use QuantumCircuit.u instead, which acts identically. Alternatively, you can decompose u3 in terms of QuantumCircuit.p and QuantumCircuit.sx: u3(ϴ,φ,λ) = p(φ+π) sx p(ϴ+π) sx p(λ) (2 pulses on hardware).\n",
      "  qcircuit.u3(*params[1][i], qubits[i])\n"
     ]
    },
    {
     "name": "stdout",
     "output_type": "stream",
     "text": [
      "FINAL ACCURACY: 100.00%\n"
     ]
    }
   ],
   "source": [
    "vqc.score(X_train, Y_train)"
   ]
  },
  {
   "cell_type": "code",
   "execution_count": 91,
   "id": "ae3aa9cd",
   "metadata": {},
   "outputs": [
    {
     "data": {
      "text/plain": [
       "tensor([[[-3.42142600e-02, -5.45047534e-03,  8.11905347e-01],\n",
       "         [-1.52484152e+00,  1.49884676e+00, -1.25408626e-02],\n",
       "         [-1.89515860e-03,  1.35760410e-02,  8.22999582e-03],\n",
       "         [ 1.39102114e+00,  4.19729865e-01,  1.60000380e-04]],\n",
       "\n",
       "        [[ 7.88431068e-01, -8.86177264e-01,  1.33830291e-02],\n",
       "         [-3.71228143e-03, -1.12994101e-02, -1.27897783e-02],\n",
       "         [ 9.45954683e-03, -3.34659883e-03,  1.17217829e-02],\n",
       "         [ 1.98256181e-02, -1.07358054e-02,  7.53621360e-03]]], requires_grad=True)"
      ]
     },
     "execution_count": 91,
     "metadata": {},
     "output_type": "execute_result"
    }
   ],
   "source": [
    "vqc.bestparams"
   ]
  },
  {
   "cell_type": "code",
   "execution_count": 20,
   "id": "e6192da5",
   "metadata": {},
   "outputs": [],
   "source": [
    "def createCircuit(params, data):\n",
    "    qcircuit = QuantumCircuit(4, 4)\n",
    "    qubits = qcircuit.qubits\n",
    "\n",
    "    for i, d in enumerate(data):\n",
    "        qcircuit.rx(d * np.pi, qubits[i])\n",
    "\n",
    "    for i in range(qubits_num):\n",
    "        qcircuit.u3(*params[0][i], qubits[i])\n",
    "\n",
    "    qcircuit.cz(qubits[0], qubits[1])\n",
    "    qcircuit.cz(qubits[1], qubits[2])\n",
    "    qcircuit.cz(qubits[2], qubits[3])\n",
    "    qcircuit.cz(qubits[0], qubits[3])\n",
    "\n",
    "    for i in range(qubits_num):\n",
    "        qcircuit.u3(*params[1][i], qubits[i])\n",
    "        \n",
    "    return qcircuit"
   ]
  },
  {
   "cell_type": "code",
   "execution_count": 21,
   "id": "756a3330",
   "metadata": {},
   "outputs": [
    {
     "data": {
      "text/plain": [
       "tensor([[[-0.61058476, -0.23619078, -0.67559108],\n",
       "         [-1.80790905,  1.63540309,  0.00804188],\n",
       "         [ 0.00743875, -0.00383477,  0.00555999],\n",
       "         [ 0.71276441,  0.35923809, -0.01611214]],\n",
       "\n",
       "        [[-0.66429931,  1.08155472,  0.00423949],\n",
       "         [-0.01545674, -0.00554078, -0.01610597],\n",
       "         [ 0.00756835,  0.00232607,  0.00317225],\n",
       "         [ 0.00676815, -0.00607192, -0.00496333]]], requires_grad=True)"
      ]
     },
     "execution_count": 21,
     "metadata": {},
     "output_type": "execute_result"
    }
   ],
   "source": [
    "vqc.bestparams"
   ]
  },
  {
   "cell_type": "code",
   "execution_count": 23,
   "id": "8185aaa8",
   "metadata": {},
   "outputs": [
    {
     "name": "stderr",
     "output_type": "stream",
     "text": [
      "C:\\Users\\lenovo\\AppData\\Local\\Temp/ipykernel_16096/1353296466.py:9: DeprecationWarning: The QuantumCircuit.u3 method is deprecated as of 0.16.0. It will be removed no earlier than 3 months after the release date. You should use QuantumCircuit.u instead, which acts identically. Alternatively, you can decompose u3 in terms of QuantumCircuit.p and QuantumCircuit.sx: u3(ϴ,φ,λ) = p(φ+π) sx p(ϴ+π) sx p(λ) (2 pulses on hardware).\n",
      "  qcircuit.u3(*params[0][i], qubits[i])\n",
      "C:\\Users\\lenovo\\AppData\\Local\\Temp/ipykernel_16096/1353296466.py:17: DeprecationWarning: The QuantumCircuit.u3 method is deprecated as of 0.16.0. It will be removed no earlier than 3 months after the release date. You should use QuantumCircuit.u instead, which acts identically. Alternatively, you can decompose u3 in terms of QuantumCircuit.p and QuantumCircuit.sx: u3(ϴ,φ,λ) = p(φ+π) sx p(ϴ+π) sx p(λ) (2 pulses on hardware).\n",
      "  qcircuit.u3(*params[1][i], qubits[i])\n"
     ]
    },
    {
     "data": {
      "image/png": "[encoded data removed]",
      "text/plain": [
       "<Figure size 507.997x325.08 with 1 Axes>"
      ]
     },
     "execution_count": 23,
     "metadata": {},
     "output_type": "execute_result"
    }
   ],
   "source": [
    "qcircuit = createCircuit(vqc.bestparams, X_train[0])\n",
    "qcircuit.draw(output='mpl')"
   ]
  }
 ],
 "metadata": {
  "kernelspec": {
   "display_name": "Python 3 (ipykernel)",
   "language": "python",
   "name": "python3"
  },
  "language_info": {
   "codemirror_mode": {
    "name": "ipython",
    "version": 3
   },
   "file_extension": ".py",
   "mimetype": "text/x-python",
   "name": "python",
   "nbconvert_exporter": "python",
   "pygments_lexer": "ipython3",
   "version": "3.8.13"
  }
 },
 "nbformat": 4,
 "nbformat_minor": 5
}
