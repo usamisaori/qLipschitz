{
 "cells": [
  {
   "cell_type": "code",
   "execution_count": 1,
   "id": "b719a7c7",
   "metadata": {},
   "outputs": [],
   "source": [
    "import numpy as np\n",
    "from qiskit import QuantumCircuit"
   ]
  },
  {
   "cell_type": "markdown",
   "id": "2111237e",
   "metadata": {},
   "source": [
    "## Create Circuit"
   ]
  },
  {
   "cell_type": "code",
   "execution_count": 2,
   "id": "d9f67b84",
   "metadata": {},
   "outputs": [],
   "source": [
    "def createInputCircuit(data):\n",
    "    qubits_num = len(data)\n",
    "    qcircuit = QuantumCircuit(qubits_num, qubits_num)\n",
    "    qubits = qcircuit.qubits\n",
    "\n",
    "    for i, d in enumerate(data):\n",
    "        qcircuit.rx(d * np.pi, qubits[i])\n",
    "        \n",
    "    return qcircuit"
   ]
  },
  {
   "cell_type": "code",
   "execution_count": 3,
   "id": "f884103c",
   "metadata": {},
   "outputs": [],
   "source": [
    "def createModelCircuit(params):\n",
    "    qubits_num = len(params[0])\n",
    "    qcircuit = QuantumCircuit(qubits_num, qubits_num)\n",
    "    qubits = qcircuit.qubits\n",
    "\n",
    "    for i in range(qubits_num):\n",
    "        qcircuit.u3(*params[0][i], qubits[i])\n",
    "\n",
    "    for i in range(qubits_num - 1):\n",
    "        qcircuit.cz(qubits[i], qubits[i + 1])\n",
    "    qcircuit.cz(qubits[0], qubits[qubits_num - 1])\n",
    "\n",
    "    for i in range(qubits_num):\n",
    "        qcircuit.u3(*params[1][i], qubits[i])\n",
    "        \n",
    "    return qcircuit"
   ]
  },
  {
   "cell_type": "code",
   "execution_count": 4,
   "id": "8accd049",
   "metadata": {},
   "outputs": [],
   "source": [
    "def createCircuit(params, data):\n",
    "    input_circuit = createInputCircuit(data)\n",
    "    model_circuit = createModelCircuit(params)\n",
    "    full_circuit = input_circuit.compose(model_circuit)\n",
    "    \n",
    "    return full_circuit"
   ]
  },
  {
   "cell_type": "markdown",
   "id": "6f9c262f",
   "metadata": {},
   "source": [
    "## Create Noisy Circuit"
   ]
  },
  {
   "cell_type": "code",
   "execution_count": 8,
   "id": "8612d699",
   "metadata": {},
   "outputs": [],
   "source": [
    "from qiskit.providers.aer.noise import NoiseModel\n",
    "from qiskit.providers.aer.utils import insert_noise\n",
    "from qiskit.providers.aer.noise import pauli_error, depolarizing_error"
   ]
  },
  {
   "cell_type": "code",
   "execution_count": 9,
   "id": "4fe9590e",
   "metadata": {},
   "outputs": [],
   "source": [
    "def createNoiseModel(p, errorType):\n",
    "    # QuantumError objects\n",
    "    if errorType == 'bit_flip':\n",
    "        error = pauli_error([('X', p), ('I', 1 - p)])\n",
    "    elif errorType == 'phase_flip':\n",
    "        error = pauli_error([('Z', p), ('I', 1 - p)])\n",
    "    elif errorType == 'depolarizing':\n",
    "        error = depolarizing_error(p, num_qubits=1)\n",
    "        \n",
    "    ## two-qubits quantumError objects \n",
    "    if errorType == 'depolarizing':\n",
    "        error_2qubits = depolarizing_error(p, num_qubits=2)\n",
    "    else:\n",
    "        error_2qubits = error.tensor(error)\n",
    "        \n",
    "    # Add errors to noise model\n",
    "    noise_model = NoiseModel()\n",
    "    \n",
    "    noise_model.add_all_qubit_quantum_error(error, ['u3'])\n",
    "    noise_model.add_all_qubit_quantum_error(error_2qubits, ['cz'])\n",
    "    \n",
    "    return noise_model"
   ]
  },
  {
   "cell_type": "code",
   "execution_count": 10,
   "id": "9d6950f3",
   "metadata": {},
   "outputs": [],
   "source": [
    "def createNoisyModelCircuit(params, p, errorType):\n",
    "    noise_model = createNoiseModel(p, errorType)\n",
    "    model_circuit = createModelCircuit(params)\n",
    "    \n",
    "    return insert_noise(model_circuit, noise_model)"
   ]
  },
  {
   "cell_type": "code",
   "execution_count": null,
   "id": "f54b6e69",
   "metadata": {},
   "outputs": [],
   "source": []
  }
 ],
 "metadata": {
  "kernelspec": {
   "display_name": "Python 3 (ipykernel)",
   "language": "python",
   "name": "python3"
  },
  "language_info": {
   "codemirror_mode": {
    "name": "ipython",
    "version": 3
   },
   "file_extension": ".py",
   "mimetype": "text/x-python",
   "name": "python",
   "nbconvert_exporter": "python",
   "pygments_lexer": "ipython3",
   "version": "3.9.13"
  }
 },
 "nbformat": 4,
 "nbformat_minor": 5
}
