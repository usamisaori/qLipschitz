{
 "cells": [
  {
   "cell_type": "code",
   "execution_count": 3,
   "id": "2829fecc",
   "metadata": {},
   "outputs": [],
   "source": [
    "import numpy as np"
   ]
  },
  {
   "cell_type": "markdown",
   "id": "2d97ea0f",
   "metadata": {},
   "source": [
    "## Support Functions"
   ]
  },
  {
   "cell_type": "code",
   "execution_count": 12,
   "id": "4f250b68",
   "metadata": {},
   "outputs": [],
   "source": [
    "from qiskit.quantum_info import DensityMatrix, Statevector\n",
    "\n",
    "def getDensityMatrix(circuit):\n",
    "    return DensityMatrix(circuit).data\n",
    "\n",
    "def getStatevector(circuit):\n",
    "    return Statevector(circuit).data"
   ]
  },
  {
   "cell_type": "code",
   "execution_count": 11,
   "id": "fcd050b9",
   "metadata": {},
   "outputs": [],
   "source": [
    "from functools import reduce\n",
    "\n",
    "Dag = lambda matrix: matrix.conj().T\n",
    "Kron = lambda *matrices: reduce(np.kron, matrices)"
   ]
  },
  {
   "cell_type": "code",
   "execution_count": 10,
   "id": "2be561c0",
   "metadata": {},
   "outputs": [],
   "source": [
    "def powerSets(items):\n",
    "    N = len(items)\n",
    "    combs = []\n",
    "    \n",
    "    for i in range(2 ** N):\n",
    "        comb = []\n",
    "        for j in range(N):\n",
    "            if (i >> j) % 2:\n",
    "                comb.append(items[j])\n",
    "        combs.append(comb)\n",
    "    \n",
    "    return combs "
   ]
  },
  {
   "cell_type": "markdown",
   "id": "0f287aad",
   "metadata": {},
   "source": [
    "## Measurements Operators"
   ]
  },
  {
   "cell_type": "code",
   "execution_count": 4,
   "id": "9f5fb486",
   "metadata": {},
   "outputs": [],
   "source": [
    "# Measurements\n",
    "psi_0 = np.array([1.0, 0.0])\n",
    "psi_1 = np.array([0.0, 1.0])\n",
    "I = np.eye(2)\n",
    "\n",
    "M_0 = psi_0.reshape([2, 1]) @ psi_0.reshape([1, 2]).conj()\n",
    "M_1 = psi_1.reshape([2, 1]) @ psi_1.reshape([1, 2]).conj()"
   ]
  },
  {
   "cell_type": "code",
   "execution_count": 6,
   "id": "47c02204",
   "metadata": {},
   "outputs": [],
   "source": [
    "def getMeasurements(qubits_num):\n",
    "    measurement_0 = [M_0]\n",
    "    measurement_1 = [M_1]\n",
    "    \n",
    "    for i in range(qubits_num - 1):\n",
    "        measurement_0.append(I)\n",
    "        measurement_1.append(I)\n",
    "        \n",
    "    return [\n",
    "        Kron(*measurement_0),\n",
    "        Kron(*measurement_1)\n",
    "    ]"
   ]
  },
  {
   "cell_type": "markdown",
   "id": "6b7773a2",
   "metadata": {},
   "source": [
    "## Algorithm Unit"
   ]
  },
  {
   "cell_type": "code",
   "execution_count": 8,
   "id": "0f55c932",
   "metadata": {},
   "outputs": [],
   "source": [
    "class Algorithm:\n",
    "    def __init__(self, model_circuit, measurements, outputs):\n",
    "        # DensityMatrix of model\n",
    "        self.E = getDensityMatrix(model_circuit)\n",
    "        \n",
    "        # Measurements\n",
    "        self.M = dict()\n",
    "        for index, output in enumerate(outputs):\n",
    "            self.M[output] = measurements[index]\n",
    "        \n",
    "        # Outputs\n",
    "        self.O = outputs\n",
    "        self.O_ = powerSets(outputs)"
   ]
  },
  {
   "cell_type": "markdown",
   "id": "a2270835",
   "metadata": {},
   "source": [
    "## Calculate Lipschitz Constant"
   ]
  },
  {
   "cell_type": "code",
   "execution_count": 9,
   "id": "f5f83593",
   "metadata": {},
   "outputs": [],
   "source": [
    "def qLipschitz(A):\n",
    "    E, M, O, O_ = A.E, A.M, A.O, A.O_\n",
    "    \n",
    "    # Step 1: Calculate W_i\n",
    "    W = dict()\n",
    "    for i in O:\n",
    "        W[i] = Dag(E) @ Dag(M[i]) @ M[i] @ E\n",
    "    \n",
    "    # Step 2: Calculate K_star\n",
    "    K_star = 0; vectors = [None, None]\n",
    "    M_star = np.zeros(E.shape)\n",
    "    \n",
    "    for S in O_:\n",
    "        if len(S) == 0:\n",
    "            continue\n",
    "            \n",
    "        # calculate M_S = Σ Wi\n",
    "        M_S = np.zeros(E.shape).astype('complex64')\n",
    "        for i in S:\n",
    "            M_S += W[i]\n",
    "        \n",
    "        # calculate eigenvalues and eigenvectors of M_S\n",
    "        eigenvalues, eigenvectors = np.linalg.eigh(M_S)\n",
    "        min_index = np.where(eigenvalues == eigenvalues.min())\n",
    "        max_index = np.where(eigenvalues == eigenvalues.max())\n",
    "        \n",
    "        # calculate K_S\n",
    "        K_S = np.linalg.norm(eigenvalues[max_index][0] - eigenvalues[min_index][0])\n",
    "        \n",
    "        if K_S > K_star:\n",
    "            K_star = K_S\n",
    "            vectors[0] = eigenvectors.T[max_index][0]\n",
    "            vectors[1] = eigenvectors.T[min_index][0]\n",
    "            \n",
    "    return K_star, np.array(vectors)"
   ]
  },
  {
   "cell_type": "markdown",
   "id": "25f9bda7",
   "metadata": {},
   "source": [
    "## Fairness verifying"
   ]
  },
  {
   "cell_type": "code",
   "execution_count": 13,
   "id": "ac40f969",
   "metadata": {},
   "outputs": [],
   "source": [
    "def FairVeriQ(A, epsilon, delta):\n",
    "    # epsilon <= 1 and delta > 0\n",
    "    K_star, kernel = Lipschitz(A)\n",
    "    \n",
    "    if delta >= K_star * epsilon:\n",
    "        return True, None\n",
    "    else:\n",
    "        return False, kernel"
   ]
  },
  {
   "cell_type": "markdown",
   "id": "67510da3",
   "metadata": {},
   "source": [
    "## Generate Bias pair"
   ]
  },
  {
   "cell_type": "code",
   "execution_count": 14,
   "id": "46747a0c",
   "metadata": {},
   "outputs": [],
   "source": [
    "def generateBiasPair(sigma, kernel, epsilon):\n",
    "    psi, phi = kernel\n",
    "    size = len(psi)\n",
    "    psi = psi.reshape(size, 1) @ Dag(psi.reshape(size, 1))\n",
    "    phi = phi.reshape(size, 1) @ Dag(phi.reshape(size, 1))\n",
    "    \n",
    "    rou_psi = epsilon * psi + (1 - epsilon) * sigma\n",
    "    rou_phi = epsilon * phi + (1 - epsilon) * sigma\n",
    "    \n",
    "    return np.array([\n",
    "        rou_psi, rou_phi\n",
    "    ])"
   ]
  },
  {
   "cell_type": "markdown",
   "id": "d6f706aa",
   "metadata": {},
   "source": [
    "## Encapsulated qLipschitz Class"
   ]
  },
  {
   "cell_type": "code",
   "execution_count": 17,
   "id": "7c44f201",
   "metadata": {},
   "outputs": [],
   "source": [
    "class QLipschitz:\n",
    "    def __init__(self, model_circuit, measurements, outputs):\n",
    "        measurements = getMeasurements(measurements) if type(measurements) == 'int' else measurements\n",
    "        self.A = Algorithm(model_circuit, measurements, outputs)\n",
    "        \n",
    "    @property\n",
    "    def constant(self):\n",
    "        return qLipschitz(self.A)\n",
    "    \n",
    "    def fairVeriQ(self, epsilon, delta):\n",
    "        return FairVeriQ(self.A, epsilon, delta)\n",
    "    \n",
    "    def generateBiasPair(self, sigma, kernel, epsilon):\n",
    "        return generateBiasPair(sigma, kernel, epsilon)"
   ]
  },
  {
   "cell_type": "code",
   "execution_count": 18,
   "id": "0aeb1871",
   "metadata": {},
   "outputs": [],
   "source": [
    "__all__ = ['QLipschitz']"
   ]
  },
  {
   "cell_type": "code",
   "execution_count": null,
   "id": "ba651ec0",
   "metadata": {},
   "outputs": [],
   "source": []
  }
 ],
 "metadata": {
  "kernelspec": {
   "display_name": "Python 3 (ipykernel)",
   "language": "python",
   "name": "python3"
  },
  "language_info": {
   "codemirror_mode": {
    "name": "ipython",
    "version": 3
   },
   "file_extension": ".py",
   "mimetype": "text/x-python",
   "name": "python",
   "nbconvert_exporter": "python",
   "pygments_lexer": "ipython3",
   "version": "3.9.13"
  }
 },
 "nbformat": 4,
 "nbformat_minor": 5
}
