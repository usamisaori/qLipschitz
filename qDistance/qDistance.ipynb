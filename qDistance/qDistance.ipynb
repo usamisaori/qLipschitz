{
 "cells": [
  {
   "cell_type": "code",
   "execution_count": 1,
   "id": "7170d977",
   "metadata": {},
   "outputs": [],
   "source": [
    "import numpy as np\n",
    "from scipy.linalg import sqrtm"
   ]
  },
  {
   "cell_type": "code",
   "execution_count": 4,
   "id": "5899768a",
   "metadata": {},
   "outputs": [],
   "source": [
    "Dag = lambda matrix: matrix.conj().T"
   ]
  },
  {
   "cell_type": "code",
   "execution_count": 5,
   "id": "3154a556",
   "metadata": {},
   "outputs": [],
   "source": [
    "def D(rou, sigma):\n",
    "    A = rou - sigma\n",
    "    A_ = sqrtm( np.dot( A.conj().T, A ) )\n",
    "\n",
    "    return 0.5 * np.linalg.norm( np.trace(A_) )"
   ]
  },
  {
   "cell_type": "code",
   "execution_count": 6,
   "id": "702b163a",
   "metadata": {},
   "outputs": [],
   "source": [
    "def d(A, rou, sigma):\n",
    "    distance = 0\n",
    "    \n",
    "    for output in A.O:\n",
    "        trace = np.trace(\n",
    "            Dag(A.M[output]) @ A.M[output] @ \n",
    "            (A.E @ (rou - sigma) @ Dag(A.E))\n",
    "        )\n",
    "        \n",
    "        distance += np.linalg.norm(trace)\n",
    "    \n",
    "    return distance / 2"
   ]
  },
  {
   "cell_type": "code",
   "execution_count": null,
   "id": "b940159f",
   "metadata": {},
   "outputs": [],
   "source": []
  }
 ],
 "metadata": {
  "kernelspec": {
   "display_name": "Python 3 (ipykernel)",
   "language": "python",
   "name": "python3"
  },
  "language_info": {
   "codemirror_mode": {
    "name": "ipython",
    "version": 3
   },
   "file_extension": ".py",
   "mimetype": "text/x-python",
   "name": "python",
   "nbconvert_exporter": "python",
   "pygments_lexer": "ipython3",
   "version": "3.9.13"
  }
 },
 "nbformat": 4,
 "nbformat_minor": 5
}
